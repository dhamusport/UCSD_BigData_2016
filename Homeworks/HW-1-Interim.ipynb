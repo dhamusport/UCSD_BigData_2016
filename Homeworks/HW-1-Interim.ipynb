{
 "cells": [
  {
   "cell_type": "code",
   "execution_count": 2,
   "metadata": {
    "collapsed": false
   },
   "outputs": [
    {
     "data": {
      "text/plain": [
       "[(116, 'the sperm whale'),\n",
       " (109, 'of the whale'),\n",
       " (88, 'the white whale'),\n",
       " (64, 'one of the'),\n",
       " (60, 'of the sea'),\n",
       " (58, 'out of the'),\n",
       " (57, 'project gutenberg tm'),\n",
       " (53, 'part of the'),\n",
       " (53, 'the ship s'),\n",
       " (53, 'a sort of')]"
      ]
     },
     "execution_count": 2,
     "metadata": {},
     "output_type": "execute_result"
    }
   ],
   "source": [
    "import string\n",
    "textRDD = sc.newAPIHadoopFile('../Data/Moby-Dick.txt',\n",
    "                              'org.apache.hadoop.mapreduce.lib.input.TextInputFormat',\n",
    "                              'org.apache.hadoop.io.LongWritable',\n",
    "                              'org.apache.hadoop.io.Text',\n",
    "                               conf={'textinputformat.record.delimiter': \"\\r\\n\\r\\n\"}) \\\n",
    "            .map(lambda x: x[1])\n",
    "\n",
    "sentences=textRDD.flatMap(lambda x: x.split(\". \"))\n",
    "\n",
    "replace_punctuation = string.maketrans(string.punctuation, ' '*len(string.punctuation))\n",
    "RDD2= sentences.map(lambda sentence:sentence.encode('ascii').lower().replace('\\r\\n',' ').translate(replace_punctuation))\n",
    "\n",
    "rdd7=RDD2.map(lambda x: x.split(' ')).map(lambda x: [e for e in x if e!=''])\n",
    "\n",
    "def ngram(x,n):\n",
    "    size=len(x)\n",
    "    l=[]\n",
    "    for i in range(size-n+1):\n",
    "        l.append(x[i])\n",
    "        for j in range(n-1):\n",
    "            l[i]=l[i]+' '+x[i+j+1]\n",
    "    return l\n",
    "\n",
    "RDD13=rdd7.map(lambda x:ngram(x,3)).flatMap(lambda x:x).map(lambda ngram: (ngram,1))\n",
    "RDD16=RDD13.reduceByKey(lambda x,y:x+y).map(lambda (c,v):(v,c)).sortByKey(False)\n",
    "RDD16.take(10)"
   ]
  }
 ],
 "metadata": {
  "kernelspec": {
   "display_name": "Python 2",
   "language": "python",
   "name": "python2"
  },
  "language_info": {
   "codemirror_mode": {
    "name": "ipython",
    "version": 2
   },
   "file_extension": ".py",
   "mimetype": "text/x-python",
   "name": "python",
   "nbconvert_exporter": "python",
   "pygments_lexer": "ipython2",
   "version": "2.7.11"
  }
 },
 "nbformat": 4,
 "nbformat_minor": 0
}
